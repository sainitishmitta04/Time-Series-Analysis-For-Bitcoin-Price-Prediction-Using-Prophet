{
  "nbformat": 4,
  "nbformat_minor": 0,
  "metadata": {
    "colab": {
      "provenance": []
    },
    "kernelspec": {
      "name": "python3",
      "display_name": "Python 3"
    },
    "language_info": {
      "name": "python"
    }
  },
  "cells": [
    {
      "cell_type": "markdown",
      "source": [
        "###PRABHALA BHARADWAJ\n",
        "###20MID0048\n",
        "###VIT VELLORE\n",
        "\n",
        "###SMART BRIDGE AI ASSIGNMENT 1"
      ],
      "metadata": {
        "id": "e8uXIos7j2R-"
      }
    },
    {
      "cell_type": "markdown",
      "source": [
        "### #Create a pandas dataframe (DataFrame name as 'df') with numpy random values (4 features and 4 observation\n"
      ],
      "metadata": {
        "id": "5FV5NONtkTr1"
      }
    },
    {
      "cell_type": "code",
      "source": [
        "import numpy as np\n",
        "import pandas as pd\n",
        "\n",
        "# Set the random seed for reproducibility\n",
        "np.random.seed(42)\n",
        "\n",
        "# Create random values\n",
        "data = np.random.rand(4, 4)\n",
        "\n",
        "# Create the DataFrame\n",
        "df = pd.DataFrame(data, columns=['Feature1', 'Feature2', 'Feature3', 'Feature4'])\n",
        "print(df)"
      ],
      "metadata": {
        "colab": {
          "base_uri": "https://localhost:8080/"
        },
        "id": "J3zbSvIRkapQ",
        "outputId": "1e8d6608-1908-49a1-d894-820b89ddaec5"
      },
      "execution_count": 1,
      "outputs": [
        {
          "output_type": "stream",
          "name": "stdout",
          "text": [
            "   Feature1  Feature2  Feature3  Feature4\n",
            "0  0.374540  0.950714  0.731994  0.598658\n",
            "1  0.156019  0.155995  0.058084  0.866176\n",
            "2  0.601115  0.708073  0.020584  0.969910\n",
            "3  0.832443  0.212339  0.181825  0.183405\n"
          ]
        }
      ]
    },
    {
      "cell_type": "markdown",
      "source": [
        "# #Rename the task - 1 'df' dataframe column names to 'Random value 1', 'Random value 2', 'Random value 3' & 'Random value 4\n"
      ],
      "metadata": {
        "id": "m9lQIzkzkn7W"
      }
    },
    {
      "cell_type": "code",
      "source": [
        "# Rename the column names\n",
        "df.rename(columns={'Feature1': 'Random value 1', 'Feature2': 'Random value 2',\n",
        "                   'Feature3': 'Random value 3', 'Feature4': 'Random value 4'},\n",
        "          inplace=True)\n",
        "print(df)"
      ],
      "metadata": {
        "colab": {
          "base_uri": "https://localhost:8080/"
        },
        "id": "D1SAc3bXktWs",
        "outputId": "c409c195-6b3b-491c-fb00-f2d503731ceb"
      },
      "execution_count": 2,
      "outputs": [
        {
          "output_type": "stream",
          "name": "stdout",
          "text": [
            "   Random value 1  Random value 2  Random value 3  Random value 4\n",
            "0        0.374540        0.950714        0.731994        0.598658\n",
            "1        0.156019        0.155995        0.058084        0.866176\n",
            "2        0.601115        0.708073        0.020584        0.969910\n",
            "3        0.832443        0.212339        0.181825        0.183405\n"
          ]
        }
      ]
    },
    {
      "cell_type": "markdown",
      "source": [
        "#Find the descriptive statistics of the 'df' dataframe.\n"
      ],
      "metadata": {
        "id": "eDPdEORykyvE"
      }
    },
    {
      "cell_type": "code",
      "source": [
        "# Display descriptive statistics\n",
        "statistics = df.describe()\n",
        "\n",
        "# Print the statistics\n",
        "print(statistics)"
      ],
      "metadata": {
        "colab": {
          "base_uri": "https://localhost:8080/"
        },
        "id": "JqysatnXk6rL",
        "outputId": "beb8272a-0f45-40d1-cba8-1fa2300337dc"
      },
      "execution_count": 3,
      "outputs": [
        {
          "output_type": "stream",
          "name": "stdout",
          "text": [
            "       Random value 1  Random value 2  Random value 3  Random value 4\n",
            "count        4.000000        4.000000        4.000000        4.000000\n",
            "mean         0.491029        0.506780        0.248122        0.654537\n",
            "std          0.291252        0.386153        0.329856        0.350875\n",
            "min          0.156019        0.155995        0.020584        0.183405\n",
            "25%          0.319910        0.198253        0.048709        0.494845\n",
            "50%          0.487828        0.460206        0.119954        0.732417\n",
            "75%          0.658947        0.768733        0.319367        0.892110\n",
            "max          0.832443        0.950714        0.731994        0.969910\n"
          ]
        }
      ]
    },
    {
      "cell_type": "markdown",
      "source": [
        "#Check for the null values in 'df' and find the data type of the columns\n"
      ],
      "metadata": {
        "id": "BxaRrfJfk_kb"
      }
    },
    {
      "cell_type": "code",
      "source": [
        "# Check for null values\n",
        "null_values = df.isnull().sum()\n",
        "\n",
        "# Print null values\n",
        "print(\"Null Values:\\n\", null_values)\n",
        "\n",
        "# Find data types of columns\n",
        "data_types = df.dtypes\n",
        "\n",
        "# Print data types\n",
        "print(\"\\nData Types:\\n\", data_types)\n"
      ],
      "metadata": {
        "colab": {
          "base_uri": "https://localhost:8080/"
        },
        "id": "0pNmIqTPlCuI",
        "outputId": "24d62fe3-8382-4e7d-ad33-d4165c002e85"
      },
      "execution_count": 4,
      "outputs": [
        {
          "output_type": "stream",
          "name": "stdout",
          "text": [
            "Null Values:\n",
            " Random value 1    0\n",
            "Random value 2    0\n",
            "Random value 3    0\n",
            "Random value 4    0\n",
            "dtype: int64\n",
            "\n",
            "Data Types:\n",
            " Random value 1    float64\n",
            "Random value 2    float64\n",
            "Random value 3    float64\n",
            "Random value 4    float64\n",
            "dtype: object\n"
          ]
        }
      ]
    },
    {
      "cell_type": "markdown",
      "source": [
        "#Display the 'Random value 2' & 'Random value 3' columns with location method and index location method\n"
      ],
      "metadata": {
        "id": "CrQ03OhblHUK"
      }
    },
    {
      "cell_type": "code",
      "source": [
        "# Display columns using location method\n",
        "location_method_cols = df.loc[:, ['Random value 2', 'Random value 3']]\n",
        "print(\"Columns using location method:\\n\", location_method_cols)\n",
        "\n",
        "# Display columns using index location method\n",
        "index_location_method_cols = df.iloc[:, [1, 2]]\n",
        "print(\"\\nColumns using index location method:\\n\", index_location_method_cols)"
      ],
      "metadata": {
        "colab": {
          "base_uri": "https://localhost:8080/"
        },
        "id": "4pmzi_IglKML",
        "outputId": "beb5b4dd-c1fc-42d3-d293-a28bb47d64bf"
      },
      "execution_count": 5,
      "outputs": [
        {
          "output_type": "stream",
          "name": "stdout",
          "text": [
            "Columns using location method:\n",
            "    Random value 2  Random value 3\n",
            "0        0.950714        0.731994\n",
            "1        0.155995        0.058084\n",
            "2        0.708073        0.020584\n",
            "3        0.212339        0.181825\n",
            "\n",
            "Columns using index location method:\n",
            "    Random value 2  Random value 3\n",
            "0        0.950714        0.731994\n",
            "1        0.155995        0.058084\n",
            "2        0.708073        0.020584\n",
            "3        0.212339        0.181825\n"
          ]
        }
      ]
    },
    {
      "cell_type": "markdown",
      "source": [],
      "metadata": {
        "id": "eGk9LtTolYhS"
      }
    }
  ]
}