{
 "cells": [
  {
   "cell_type": "markdown",
   "id": "f698b9a8",
   "metadata": {
    "id": "f698b9a8"
   },
   "source": [
    "# Name : MITTA SAI NITISH\n",
    "# Reg No : 20MID0054\n",
    "# College : VIT Vellore\n",
    "## EMAIL : mittasai.nitish2020@vitstudent.ac.in\n",
    "#                                          -------AI Assignment 1---------"
   ]
  },
  {
   "cell_type": "markdown",
   "id": "ac766707",
   "metadata": {
    "id": "ac766707"
   },
   "source": [
    "### Create a pandas dataframe (DataFrame name as 'df') with numpy random values (4 features and 4 observation"
   ]
  },
  {
   "cell_type": "code",
   "execution_count": 1,
   "id": "05776ea9",
   "metadata": {
    "id": "05776ea9",
    "outputId": "a12b9305-8030-4db0-a87d-a7eb8026293a"
   },
   "outputs": [],
   "source": [
    "import numpy as np\n",
    "import pandas as pd\n",
    "\n",
    "# Set the random seed for reproducibility\n",
    "np.random.seed(42)\n",
    "\n",
    "# Create random values\n",
    "data = np.random.rand(4, 4)"
   ]
  },
  {
   "cell_type": "code",
   "execution_count": 2,
   "id": "4610d67e",
   "metadata": {},
   "outputs": [
    {
     "name": "stdout",
     "output_type": "stream",
     "text": [
      "[[0.37454012 0.95071431 0.73199394 0.59865848]\n",
      " [0.15601864 0.15599452 0.05808361 0.86617615]\n",
      " [0.60111501 0.70807258 0.02058449 0.96990985]\n",
      " [0.83244264 0.21233911 0.18182497 0.18340451]]\n"
     ]
    }
   ],
   "source": [
    "print(data)"
   ]
  },
  {
   "cell_type": "code",
   "execution_count": 3,
   "id": "1a2d7cac",
   "metadata": {},
   "outputs": [
    {
     "name": "stdout",
     "output_type": "stream",
     "text": [
      "   Feature1  Feature2  Feature3  Feature4\n",
      "0  0.374540  0.950714  0.731994  0.598658\n",
      "1  0.156019  0.155995  0.058084  0.866176\n",
      "2  0.601115  0.708073  0.020584  0.969910\n",
      "3  0.832443  0.212339  0.181825  0.183405\n"
     ]
    }
   ],
   "source": [
    "# Create the DataFrame\n",
    "df = pd.DataFrame(data, columns=['Feature1', 'Feature2', 'Feature3', 'Feature4'])\n",
    "print(df)"
   ]
  },
  {
   "cell_type": "markdown",
   "id": "721fc2ea",
   "metadata": {
    "id": "721fc2ea"
   },
   "source": [
    "### Rename the task - 1 'df' dataframe column names to 'Random value 1', 'Random value 2', 'Random value 3' & 'Random value 4"
   ]
  },
  {
   "cell_type": "code",
   "execution_count": 4,
   "id": "a203baeb",
   "metadata": {
    "id": "a203baeb",
    "outputId": "6ba92698-a5a2-498b-a102-2c1716bbcb2e"
   },
   "outputs": [
    {
     "name": "stdout",
     "output_type": "stream",
     "text": [
      "   Random value 1  Random value 2  Random value 3  Random value 4\n",
      "0        0.374540        0.950714        0.731994        0.598658\n",
      "1        0.156019        0.155995        0.058084        0.866176\n",
      "2        0.601115        0.708073        0.020584        0.969910\n",
      "3        0.832443        0.212339        0.181825        0.183405\n"
     ]
    }
   ],
   "source": [
    "# Rename the column names\n",
    "df.rename(columns={'Feature1': 'Random value 1', 'Feature2': 'Random value 2',\n",
    "                   'Feature3': 'Random value 3', 'Feature4': 'Random value 4'},\n",
    "          inplace=True)\n",
    "print(df)"
   ]
  },
  {
   "cell_type": "markdown",
   "id": "387e1668",
   "metadata": {
    "id": "387e1668"
   },
   "source": [
    "### Find the descriptive statistics of the 'df' dataframe."
   ]
  },
  {
   "cell_type": "code",
   "execution_count": 5,
   "id": "66f9ad19",
   "metadata": {},
   "outputs": [
    {
     "name": "stdout",
     "output_type": "stream",
     "text": [
      "<class 'pandas.core.frame.DataFrame'>\n",
      "RangeIndex: 4 entries, 0 to 3\n",
      "Data columns (total 4 columns):\n",
      " #   Column          Non-Null Count  Dtype  \n",
      "---  ------          --------------  -----  \n",
      " 0   Random value 1  4 non-null      float64\n",
      " 1   Random value 2  4 non-null      float64\n",
      " 2   Random value 3  4 non-null      float64\n",
      " 3   Random value 4  4 non-null      float64\n",
      "dtypes: float64(4)\n",
      "memory usage: 256.0 bytes\n"
     ]
    }
   ],
   "source": [
    "df.info()"
   ]
  },
  {
   "cell_type": "code",
   "execution_count": 6,
   "id": "75410cb8",
   "metadata": {
    "id": "75410cb8",
    "outputId": "034bb28c-3316-49cd-ef2a-a70f9eb80513"
   },
   "outputs": [
    {
     "data": {
      "text/html": [
       "<div>\n",
       "<style scoped>\n",
       "    .dataframe tbody tr th:only-of-type {\n",
       "        vertical-align: middle;\n",
       "    }\n",
       "\n",
       "    .dataframe tbody tr th {\n",
       "        vertical-align: top;\n",
       "    }\n",
       "\n",
       "    .dataframe thead th {\n",
       "        text-align: right;\n",
       "    }\n",
       "</style>\n",
       "<table border=\"1\" class=\"dataframe\">\n",
       "  <thead>\n",
       "    <tr style=\"text-align: right;\">\n",
       "      <th></th>\n",
       "      <th>Random value 1</th>\n",
       "      <th>Random value 2</th>\n",
       "      <th>Random value 3</th>\n",
       "      <th>Random value 4</th>\n",
       "    </tr>\n",
       "  </thead>\n",
       "  <tbody>\n",
       "    <tr>\n",
       "      <th>count</th>\n",
       "      <td>4.000000</td>\n",
       "      <td>4.000000</td>\n",
       "      <td>4.000000</td>\n",
       "      <td>4.000000</td>\n",
       "    </tr>\n",
       "    <tr>\n",
       "      <th>mean</th>\n",
       "      <td>0.491029</td>\n",
       "      <td>0.506780</td>\n",
       "      <td>0.248122</td>\n",
       "      <td>0.654537</td>\n",
       "    </tr>\n",
       "    <tr>\n",
       "      <th>std</th>\n",
       "      <td>0.291252</td>\n",
       "      <td>0.386153</td>\n",
       "      <td>0.329856</td>\n",
       "      <td>0.350875</td>\n",
       "    </tr>\n",
       "    <tr>\n",
       "      <th>min</th>\n",
       "      <td>0.156019</td>\n",
       "      <td>0.155995</td>\n",
       "      <td>0.020584</td>\n",
       "      <td>0.183405</td>\n",
       "    </tr>\n",
       "    <tr>\n",
       "      <th>25%</th>\n",
       "      <td>0.319910</td>\n",
       "      <td>0.198253</td>\n",
       "      <td>0.048709</td>\n",
       "      <td>0.494845</td>\n",
       "    </tr>\n",
       "    <tr>\n",
       "      <th>50%</th>\n",
       "      <td>0.487828</td>\n",
       "      <td>0.460206</td>\n",
       "      <td>0.119954</td>\n",
       "      <td>0.732417</td>\n",
       "    </tr>\n",
       "    <tr>\n",
       "      <th>75%</th>\n",
       "      <td>0.658947</td>\n",
       "      <td>0.768733</td>\n",
       "      <td>0.319367</td>\n",
       "      <td>0.892110</td>\n",
       "    </tr>\n",
       "    <tr>\n",
       "      <th>max</th>\n",
       "      <td>0.832443</td>\n",
       "      <td>0.950714</td>\n",
       "      <td>0.731994</td>\n",
       "      <td>0.969910</td>\n",
       "    </tr>\n",
       "  </tbody>\n",
       "</table>\n",
       "</div>"
      ],
      "text/plain": [
       "       Random value 1  Random value 2  Random value 3  Random value 4\n",
       "count        4.000000        4.000000        4.000000        4.000000\n",
       "mean         0.491029        0.506780        0.248122        0.654537\n",
       "std          0.291252        0.386153        0.329856        0.350875\n",
       "min          0.156019        0.155995        0.020584        0.183405\n",
       "25%          0.319910        0.198253        0.048709        0.494845\n",
       "50%          0.487828        0.460206        0.119954        0.732417\n",
       "75%          0.658947        0.768733        0.319367        0.892110\n",
       "max          0.832443        0.950714        0.731994        0.969910"
      ]
     },
     "execution_count": 6,
     "metadata": {},
     "output_type": "execute_result"
    }
   ],
   "source": [
    "# Display descriptive statistics\n",
    "df.describe(include='all')"
   ]
  },
  {
   "cell_type": "markdown",
   "id": "ebbd3c08",
   "metadata": {
    "id": "ebbd3c08"
   },
   "source": [
    "### Check for the null values in 'df' and find the data type of the columns"
   ]
  },
  {
   "cell_type": "code",
   "execution_count": 7,
   "id": "02fe5e02",
   "metadata": {
    "id": "02fe5e02",
    "outputId": "8f1bfda6-5d62-4b99-e34a-e7d5db719eae"
   },
   "outputs": [
    {
     "name": "stdout",
     "output_type": "stream",
     "text": [
      "Null Values:\n",
      " Random value 1    0\n",
      "Random value 2    0\n",
      "Random value 3    0\n",
      "Random value 4    0\n",
      "dtype: int64\n",
      "\n",
      "Data Types:\n",
      " Random value 1    float64\n",
      "Random value 2    float64\n",
      "Random value 3    float64\n",
      "Random value 4    float64\n",
      "dtype: object\n"
     ]
    }
   ],
   "source": [
    "# Check for null values\n",
    "null_values = df.isnull().sum()\n",
    "\n",
    "# Print null values\n",
    "print(\"Null Values:\\n\", null_values)\n",
    "\n",
    "# Find data types of columns\n",
    "data_types = df.dtypes\n",
    "\n",
    "# Print data types\n",
    "print(\"\\nData Types:\\n\", data_types)\n"
   ]
  },
  {
   "cell_type": "markdown",
   "id": "818fc614",
   "metadata": {
    "id": "818fc614"
   },
   "source": [
    "### Display the 'Random value 2' & 'Random value 3' columns with location method and index location method"
   ]
  },
  {
   "cell_type": "code",
   "execution_count": 8,
   "id": "f23ac6ac",
   "metadata": {
    "id": "f23ac6ac",
    "outputId": "ed1cf0b8-a74a-439f-f747-15250f578355"
   },
   "outputs": [
    {
     "name": "stdout",
     "output_type": "stream",
     "text": [
      "Columns using location method:\n",
      "    Random value 2  Random value 3\n",
      "0        0.950714        0.731994\n",
      "1        0.155995        0.058084\n",
      "2        0.708073        0.020584\n",
      "3        0.212339        0.181825\n",
      "\n",
      "Columns using index location method:\n",
      "    Random value 2  Random value 3\n",
      "0        0.950714        0.731994\n",
      "1        0.155995        0.058084\n",
      "2        0.708073        0.020584\n",
      "3        0.212339        0.181825\n"
     ]
    }
   ],
   "source": [
    "# Display columns using location method\n",
    "location_method_cols = df.loc[:, ['Random value 2', 'Random value 3']]\n",
    "print(\"Columns using location method:\\n\", location_method_cols)\n",
    "\n",
    "# Display columns using index location method\n",
    "index_location_method_cols = df.iloc[:, [1, 2]]\n",
    "print(\"\\nColumns using index location method:\\n\", index_location_method_cols)\n"
   ]
  }
 ],
 "metadata": {
  "colab": {
   "provenance": []
  },
  "kernelspec": {
   "display_name": "Python 3 (ipykernel)",
   "language": "python",
   "name": "python3"
  },
  "language_info": {
   "codemirror_mode": {
    "name": "ipython",
    "version": 3
   },
   "file_extension": ".py",
   "mimetype": "text/x-python",
   "name": "python",
   "nbconvert_exporter": "python",
   "pygments_lexer": "ipython3",
   "version": "3.8.13"
  }
 },
 "nbformat": 4,
 "nbformat_minor": 5
}
