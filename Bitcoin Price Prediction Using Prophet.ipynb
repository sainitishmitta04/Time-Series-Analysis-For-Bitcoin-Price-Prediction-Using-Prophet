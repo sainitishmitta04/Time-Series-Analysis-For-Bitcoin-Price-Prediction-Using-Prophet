{
 "cells": [
  {
   "cell_type": "markdown",
   "id": "20d0006b",
   "metadata": {},
   "source": [
    "# Time Series Analysis For Bitcoin Price Prediction using Prophet"
   ]
  },
  {
   "cell_type": "markdown",
   "id": "30838d9a",
   "metadata": {},
   "source": [
    "## Importing Libraries"
   ]
  },
  {
   "cell_type": "code",
   "execution_count": 1,
   "id": "f243a34e",
   "metadata": {},
   "outputs": [
    {
     "name": "stderr",
     "output_type": "stream",
     "text": [
      "Importing plotly failed. Interactive plots will not work.\n"
     ]
    }
   ],
   "source": [
    "import pandas as pd\n",
    "import matplotlib.pyplot as plt\n",
    "\n",
    "import warnings\n",
    "warnings.filterwarnings(\"ignore\")\n",
    "\n",
    "import yfinance as yf\n",
    "from prophet import Prophet"
   ]
  },
  {
   "cell_type": "code",
   "execution_count": 2,
   "id": "8ec553cc",
   "metadata": {},
   "outputs": [],
   "source": [
    "pd.set_option('display.float_format', lambda x: '%.3f' % x)"
   ]
  },
  {
   "cell_type": "markdown",
   "id": "50b887ab",
   "metadata": {},
   "source": [
    "## Data Collection"
   ]
  },
  {
   "cell_type": "code",
   "execution_count": 3,
   "id": "5ba1ce4a",
   "metadata": {},
   "outputs": [
    {
     "name": "stdout",
     "output_type": "stream",
     "text": [
      "[*********************100%***********************]  1 of 1 completed\n"
     ]
    }
   ],
   "source": [
    "df = yf.download('BTC-USD')"
   ]
  },
  {
   "cell_type": "code",
   "execution_count": 4,
   "id": "54e4d787",
   "metadata": {},
   "outputs": [
    {
     "data": {
      "text/html": [
       "<div>\n",
       "<style scoped>\n",
       "    .dataframe tbody tr th:only-of-type {\n",
       "        vertical-align: middle;\n",
       "    }\n",
       "\n",
       "    .dataframe tbody tr th {\n",
       "        vertical-align: top;\n",
       "    }\n",
       "\n",
       "    .dataframe thead th {\n",
       "        text-align: right;\n",
       "    }\n",
       "</style>\n",
       "<table border=\"1\" class=\"dataframe\">\n",
       "  <thead>\n",
       "    <tr style=\"text-align: right;\">\n",
       "      <th></th>\n",
       "      <th>Open</th>\n",
       "      <th>High</th>\n",
       "      <th>Low</th>\n",
       "      <th>Close</th>\n",
       "      <th>Adj Close</th>\n",
       "      <th>Volume</th>\n",
       "    </tr>\n",
       "    <tr>\n",
       "      <th>Date</th>\n",
       "      <th></th>\n",
       "      <th></th>\n",
       "      <th></th>\n",
       "      <th></th>\n",
       "      <th></th>\n",
       "      <th></th>\n",
       "    </tr>\n",
       "  </thead>\n",
       "  <tbody>\n",
       "    <tr>\n",
       "      <th>2014-09-17</th>\n",
       "      <td>465.864</td>\n",
       "      <td>468.174</td>\n",
       "      <td>452.422</td>\n",
       "      <td>457.334</td>\n",
       "      <td>457.334</td>\n",
       "      <td>21056800</td>\n",
       "    </tr>\n",
       "    <tr>\n",
       "      <th>2014-09-18</th>\n",
       "      <td>456.860</td>\n",
       "      <td>456.860</td>\n",
       "      <td>413.104</td>\n",
       "      <td>424.440</td>\n",
       "      <td>424.440</td>\n",
       "      <td>34483200</td>\n",
       "    </tr>\n",
       "    <tr>\n",
       "      <th>2014-09-19</th>\n",
       "      <td>424.103</td>\n",
       "      <td>427.835</td>\n",
       "      <td>384.532</td>\n",
       "      <td>394.796</td>\n",
       "      <td>394.796</td>\n",
       "      <td>37919700</td>\n",
       "    </tr>\n",
       "    <tr>\n",
       "      <th>2014-09-20</th>\n",
       "      <td>394.673</td>\n",
       "      <td>423.296</td>\n",
       "      <td>389.883</td>\n",
       "      <td>408.904</td>\n",
       "      <td>408.904</td>\n",
       "      <td>36863600</td>\n",
       "    </tr>\n",
       "    <tr>\n",
       "      <th>2014-09-21</th>\n",
       "      <td>408.085</td>\n",
       "      <td>412.426</td>\n",
       "      <td>393.181</td>\n",
       "      <td>398.821</td>\n",
       "      <td>398.821</td>\n",
       "      <td>26580100</td>\n",
       "    </tr>\n",
       "    <tr>\n",
       "      <th>...</th>\n",
       "      <td>...</td>\n",
       "      <td>...</td>\n",
       "      <td>...</td>\n",
       "      <td>...</td>\n",
       "      <td>...</td>\n",
       "      <td>...</td>\n",
       "    </tr>\n",
       "    <tr>\n",
       "      <th>2023-06-26</th>\n",
       "      <td>30480.523</td>\n",
       "      <td>30636.029</td>\n",
       "      <td>29955.744</td>\n",
       "      <td>30271.131</td>\n",
       "      <td>30271.131</td>\n",
       "      <td>16493186997</td>\n",
       "    </tr>\n",
       "    <tr>\n",
       "      <th>2023-06-27</th>\n",
       "      <td>30274.320</td>\n",
       "      <td>31006.787</td>\n",
       "      <td>30236.650</td>\n",
       "      <td>30688.164</td>\n",
       "      <td>30688.164</td>\n",
       "      <td>16428827944</td>\n",
       "    </tr>\n",
       "    <tr>\n",
       "      <th>2023-06-28</th>\n",
       "      <td>30696.561</td>\n",
       "      <td>30703.279</td>\n",
       "      <td>29921.822</td>\n",
       "      <td>30086.246</td>\n",
       "      <td>30086.246</td>\n",
       "      <td>14571500779</td>\n",
       "    </tr>\n",
       "    <tr>\n",
       "      <th>2023-06-29</th>\n",
       "      <td>30086.188</td>\n",
       "      <td>30796.250</td>\n",
       "      <td>30057.203</td>\n",
       "      <td>30445.352</td>\n",
       "      <td>30445.352</td>\n",
       "      <td>13180860821</td>\n",
       "    </tr>\n",
       "    <tr>\n",
       "      <th>2023-06-30</th>\n",
       "      <td>30446.086</td>\n",
       "      <td>31238.340</td>\n",
       "      <td>30363.273</td>\n",
       "      <td>30845.139</td>\n",
       "      <td>30845.139</td>\n",
       "      <td>17743484928</td>\n",
       "    </tr>\n",
       "  </tbody>\n",
       "</table>\n",
       "<p>3209 rows × 6 columns</p>\n",
       "</div>"
      ],
      "text/plain": [
       "                Open      High       Low     Close  Adj Close       Volume\n",
       "Date                                                                      \n",
       "2014-09-17   465.864   468.174   452.422   457.334    457.334     21056800\n",
       "2014-09-18   456.860   456.860   413.104   424.440    424.440     34483200\n",
       "2014-09-19   424.103   427.835   384.532   394.796    394.796     37919700\n",
       "2014-09-20   394.673   423.296   389.883   408.904    408.904     36863600\n",
       "2014-09-21   408.085   412.426   393.181   398.821    398.821     26580100\n",
       "...              ...       ...       ...       ...        ...          ...\n",
       "2023-06-26 30480.523 30636.029 29955.744 30271.131  30271.131  16493186997\n",
       "2023-06-27 30274.320 31006.787 30236.650 30688.164  30688.164  16428827944\n",
       "2023-06-28 30696.561 30703.279 29921.822 30086.246  30086.246  14571500779\n",
       "2023-06-29 30086.188 30796.250 30057.203 30445.352  30445.352  13180860821\n",
       "2023-06-30 30446.086 31238.340 30363.273 30845.139  30845.139  17743484928\n",
       "\n",
       "[3209 rows x 6 columns]"
      ]
     },
     "execution_count": 4,
     "metadata": {},
     "output_type": "execute_result"
    }
   ],
   "source": [
    "df"
   ]
  },
  {
   "cell_type": "code",
   "execution_count": 5,
   "id": "f3cff194",
   "metadata": {},
   "outputs": [],
   "source": [
    "df.reset_index(inplace=True)"
   ]
  },
  {
   "cell_type": "code",
   "execution_count": 6,
   "id": "90fde22c",
   "metadata": {},
   "outputs": [
    {
     "data": {
      "text/html": [
       "<div>\n",
       "<style scoped>\n",
       "    .dataframe tbody tr th:only-of-type {\n",
       "        vertical-align: middle;\n",
       "    }\n",
       "\n",
       "    .dataframe tbody tr th {\n",
       "        vertical-align: top;\n",
       "    }\n",
       "\n",
       "    .dataframe thead th {\n",
       "        text-align: right;\n",
       "    }\n",
       "</style>\n",
       "<table border=\"1\" class=\"dataframe\">\n",
       "  <thead>\n",
       "    <tr style=\"text-align: right;\">\n",
       "      <th></th>\n",
       "      <th>Date</th>\n",
       "      <th>Open</th>\n",
       "      <th>High</th>\n",
       "      <th>Low</th>\n",
       "      <th>Close</th>\n",
       "      <th>Adj Close</th>\n",
       "      <th>Volume</th>\n",
       "    </tr>\n",
       "  </thead>\n",
       "  <tbody>\n",
       "    <tr>\n",
       "      <th>0</th>\n",
       "      <td>2014-09-17</td>\n",
       "      <td>465.864</td>\n",
       "      <td>468.174</td>\n",
       "      <td>452.422</td>\n",
       "      <td>457.334</td>\n",
       "      <td>457.334</td>\n",
       "      <td>21056800</td>\n",
       "    </tr>\n",
       "    <tr>\n",
       "      <th>1</th>\n",
       "      <td>2014-09-18</td>\n",
       "      <td>456.860</td>\n",
       "      <td>456.860</td>\n",
       "      <td>413.104</td>\n",
       "      <td>424.440</td>\n",
       "      <td>424.440</td>\n",
       "      <td>34483200</td>\n",
       "    </tr>\n",
       "    <tr>\n",
       "      <th>2</th>\n",
       "      <td>2014-09-19</td>\n",
       "      <td>424.103</td>\n",
       "      <td>427.835</td>\n",
       "      <td>384.532</td>\n",
       "      <td>394.796</td>\n",
       "      <td>394.796</td>\n",
       "      <td>37919700</td>\n",
       "    </tr>\n",
       "    <tr>\n",
       "      <th>3</th>\n",
       "      <td>2014-09-20</td>\n",
       "      <td>394.673</td>\n",
       "      <td>423.296</td>\n",
       "      <td>389.883</td>\n",
       "      <td>408.904</td>\n",
       "      <td>408.904</td>\n",
       "      <td>36863600</td>\n",
       "    </tr>\n",
       "    <tr>\n",
       "      <th>4</th>\n",
       "      <td>2014-09-21</td>\n",
       "      <td>408.085</td>\n",
       "      <td>412.426</td>\n",
       "      <td>393.181</td>\n",
       "      <td>398.821</td>\n",
       "      <td>398.821</td>\n",
       "      <td>26580100</td>\n",
       "    </tr>\n",
       "    <tr>\n",
       "      <th>...</th>\n",
       "      <td>...</td>\n",
       "      <td>...</td>\n",
       "      <td>...</td>\n",
       "      <td>...</td>\n",
       "      <td>...</td>\n",
       "      <td>...</td>\n",
       "      <td>...</td>\n",
       "    </tr>\n",
       "    <tr>\n",
       "      <th>3204</th>\n",
       "      <td>2023-06-26</td>\n",
       "      <td>30480.523</td>\n",
       "      <td>30636.029</td>\n",
       "      <td>29955.744</td>\n",
       "      <td>30271.131</td>\n",
       "      <td>30271.131</td>\n",
       "      <td>16493186997</td>\n",
       "    </tr>\n",
       "    <tr>\n",
       "      <th>3205</th>\n",
       "      <td>2023-06-27</td>\n",
       "      <td>30274.320</td>\n",
       "      <td>31006.787</td>\n",
       "      <td>30236.650</td>\n",
       "      <td>30688.164</td>\n",
       "      <td>30688.164</td>\n",
       "      <td>16428827944</td>\n",
       "    </tr>\n",
       "    <tr>\n",
       "      <th>3206</th>\n",
       "      <td>2023-06-28</td>\n",
       "      <td>30696.561</td>\n",
       "      <td>30703.279</td>\n",
       "      <td>29921.822</td>\n",
       "      <td>30086.246</td>\n",
       "      <td>30086.246</td>\n",
       "      <td>14571500779</td>\n",
       "    </tr>\n",
       "    <tr>\n",
       "      <th>3207</th>\n",
       "      <td>2023-06-29</td>\n",
       "      <td>30086.188</td>\n",
       "      <td>30796.250</td>\n",
       "      <td>30057.203</td>\n",
       "      <td>30445.352</td>\n",
       "      <td>30445.352</td>\n",
       "      <td>13180860821</td>\n",
       "    </tr>\n",
       "    <tr>\n",
       "      <th>3208</th>\n",
       "      <td>2023-06-30</td>\n",
       "      <td>30446.086</td>\n",
       "      <td>31238.340</td>\n",
       "      <td>30363.273</td>\n",
       "      <td>30845.139</td>\n",
       "      <td>30845.139</td>\n",
       "      <td>17743484928</td>\n",
       "    </tr>\n",
       "  </tbody>\n",
       "</table>\n",
       "<p>3209 rows × 7 columns</p>\n",
       "</div>"
      ],
      "text/plain": [
       "           Date      Open      High       Low     Close  Adj Close  \\\n",
       "0    2014-09-17   465.864   468.174   452.422   457.334    457.334   \n",
       "1    2014-09-18   456.860   456.860   413.104   424.440    424.440   \n",
       "2    2014-09-19   424.103   427.835   384.532   394.796    394.796   \n",
       "3    2014-09-20   394.673   423.296   389.883   408.904    408.904   \n",
       "4    2014-09-21   408.085   412.426   393.181   398.821    398.821   \n",
       "...         ...       ...       ...       ...       ...        ...   \n",
       "3204 2023-06-26 30480.523 30636.029 29955.744 30271.131  30271.131   \n",
       "3205 2023-06-27 30274.320 31006.787 30236.650 30688.164  30688.164   \n",
       "3206 2023-06-28 30696.561 30703.279 29921.822 30086.246  30086.246   \n",
       "3207 2023-06-29 30086.188 30796.250 30057.203 30445.352  30445.352   \n",
       "3208 2023-06-30 30446.086 31238.340 30363.273 30845.139  30845.139   \n",
       "\n",
       "           Volume  \n",
       "0        21056800  \n",
       "1        34483200  \n",
       "2        37919700  \n",
       "3        36863600  \n",
       "4        26580100  \n",
       "...           ...  \n",
       "3204  16493186997  \n",
       "3205  16428827944  \n",
       "3206  14571500779  \n",
       "3207  13180860821  \n",
       "3208  17743484928  \n",
       "\n",
       "[3209 rows x 7 columns]"
      ]
     },
     "execution_count": 6,
     "metadata": {},
     "output_type": "execute_result"
    }
   ],
   "source": [
    "df"
   ]
  },
  {
   "cell_type": "markdown",
   "id": "0bdf2acb",
   "metadata": {},
   "source": [
    "## Data Analysis"
   ]
  },
  {
   "cell_type": "code",
   "execution_count": 7,
   "id": "e16195bb",
   "metadata": {},
   "outputs": [
    {
     "name": "stdout",
     "output_type": "stream",
     "text": [
      "<class 'pandas.core.frame.DataFrame'>\n",
      "RangeIndex: 3209 entries, 0 to 3208\n",
      "Data columns (total 7 columns):\n",
      " #   Column     Non-Null Count  Dtype         \n",
      "---  ------     --------------  -----         \n",
      " 0   Date       3209 non-null   datetime64[ns]\n",
      " 1   Open       3209 non-null   float64       \n",
      " 2   High       3209 non-null   float64       \n",
      " 3   Low        3209 non-null   float64       \n",
      " 4   Close      3209 non-null   float64       \n",
      " 5   Adj Close  3209 non-null   float64       \n",
      " 6   Volume     3209 non-null   int64         \n",
      "dtypes: datetime64[ns](1), float64(5), int64(1)\n",
      "memory usage: 175.6 KB\n"
     ]
    }
   ],
   "source": [
    "df.info()"
   ]
  },
  {
   "cell_type": "code",
   "execution_count": 8,
   "id": "0c535bf0",
   "metadata": {},
   "outputs": [
    {
     "data": {
      "text/plain": [
       "Date         0\n",
       "Open         0\n",
       "High         0\n",
       "Low          0\n",
       "Close        0\n",
       "Adj Close    0\n",
       "Volume       0\n",
       "dtype: int64"
      ]
     },
     "execution_count": 8,
     "metadata": {},
     "output_type": "execute_result"
    }
   ],
   "source": [
    "df.isnull().sum()"
   ]
  },
  {
   "cell_type": "code",
   "execution_count": 9,
   "id": "c35bbc08",
   "metadata": {},
   "outputs": [
    {
     "data": {
      "text/plain": [
       "0"
      ]
     },
     "execution_count": 9,
     "metadata": {},
     "output_type": "execute_result"
    }
   ],
   "source": [
    "df.duplicated().sum()"
   ]
  },
  {
   "cell_type": "code",
   "execution_count": 10,
   "id": "b7b77fe9",
   "metadata": {},
   "outputs": [
    {
     "data": {
      "text/html": [
       "<div>\n",
       "<style scoped>\n",
       "    .dataframe tbody tr th:only-of-type {\n",
       "        vertical-align: middle;\n",
       "    }\n",
       "\n",
       "    .dataframe tbody tr th {\n",
       "        vertical-align: top;\n",
       "    }\n",
       "\n",
       "    .dataframe thead th {\n",
       "        text-align: right;\n",
       "    }\n",
       "</style>\n",
       "<table border=\"1\" class=\"dataframe\">\n",
       "  <thead>\n",
       "    <tr style=\"text-align: right;\">\n",
       "      <th></th>\n",
       "      <th>Open</th>\n",
       "      <th>High</th>\n",
       "      <th>Low</th>\n",
       "      <th>Close</th>\n",
       "      <th>Adj Close</th>\n",
       "      <th>Volume</th>\n",
       "    </tr>\n",
       "  </thead>\n",
       "  <tbody>\n",
       "    <tr>\n",
       "      <th>count</th>\n",
       "      <td>3209.000</td>\n",
       "      <td>3209.000</td>\n",
       "      <td>3209.000</td>\n",
       "      <td>3209.000</td>\n",
       "      <td>3209.000</td>\n",
       "      <td>3209.000</td>\n",
       "    </tr>\n",
       "    <tr>\n",
       "      <th>mean</th>\n",
       "      <td>13565.300</td>\n",
       "      <td>13898.148</td>\n",
       "      <td>13201.398</td>\n",
       "      <td>13573.409</td>\n",
       "      <td>13573.409</td>\n",
       "      <td>16583201749.236</td>\n",
       "    </tr>\n",
       "    <tr>\n",
       "      <th>std</th>\n",
       "      <td>16012.977</td>\n",
       "      <td>16415.396</td>\n",
       "      <td>15553.811</td>\n",
       "      <td>16010.998</td>\n",
       "      <td>16010.998</td>\n",
       "      <td>19543000478.026</td>\n",
       "    </tr>\n",
       "    <tr>\n",
       "      <th>min</th>\n",
       "      <td>176.897</td>\n",
       "      <td>211.731</td>\n",
       "      <td>171.510</td>\n",
       "      <td>178.103</td>\n",
       "      <td>178.103</td>\n",
       "      <td>5914570.000</td>\n",
       "    </tr>\n",
       "    <tr>\n",
       "      <th>25%</th>\n",
       "      <td>751.833</td>\n",
       "      <td>764.084</td>\n",
       "      <td>738.924</td>\n",
       "      <td>751.616</td>\n",
       "      <td>751.616</td>\n",
       "      <td>126656000.000</td>\n",
       "    </tr>\n",
       "    <tr>\n",
       "      <th>50%</th>\n",
       "      <td>7625.970</td>\n",
       "      <td>7776.420</td>\n",
       "      <td>7460.756</td>\n",
       "      <td>7624.910</td>\n",
       "      <td>7624.910</td>\n",
       "      <td>10014858959.000</td>\n",
       "    </tr>\n",
       "    <tr>\n",
       "      <th>75%</th>\n",
       "      <td>20092.236</td>\n",
       "      <td>20382.096</td>\n",
       "      <td>19636.816</td>\n",
       "      <td>20104.023</td>\n",
       "      <td>20104.023</td>\n",
       "      <td>27525063551.000</td>\n",
       "    </tr>\n",
       "    <tr>\n",
       "      <th>max</th>\n",
       "      <td>67549.734</td>\n",
       "      <td>68789.625</td>\n",
       "      <td>66382.062</td>\n",
       "      <td>67566.828</td>\n",
       "      <td>67566.828</td>\n",
       "      <td>350967941479.000</td>\n",
       "    </tr>\n",
       "  </tbody>\n",
       "</table>\n",
       "</div>"
      ],
      "text/plain": [
       "           Open      High       Low     Close  Adj Close           Volume\n",
       "count  3209.000  3209.000  3209.000  3209.000   3209.000         3209.000\n",
       "mean  13565.300 13898.148 13201.398 13573.409  13573.409  16583201749.236\n",
       "std   16012.977 16415.396 15553.811 16010.998  16010.998  19543000478.026\n",
       "min     176.897   211.731   171.510   178.103    178.103      5914570.000\n",
       "25%     751.833   764.084   738.924   751.616    751.616    126656000.000\n",
       "50%    7625.970  7776.420  7460.756  7624.910   7624.910  10014858959.000\n",
       "75%   20092.236 20382.096 19636.816 20104.023  20104.023  27525063551.000\n",
       "max   67549.734 68789.625 66382.062 67566.828  67566.828 350967941479.000"
      ]
     },
     "execution_count": 10,
     "metadata": {},
     "output_type": "execute_result"
    }
   ],
   "source": [
    "df.describe()"
   ]
  },
  {
   "cell_type": "code",
   "execution_count": 11,
   "id": "1100d8b7",
   "metadata": {},
   "outputs": [
    {
     "data": {
      "text/html": [
       "<div>\n",
       "<style scoped>\n",
       "    .dataframe tbody tr th:only-of-type {\n",
       "        vertical-align: middle;\n",
       "    }\n",
       "\n",
       "    .dataframe tbody tr th {\n",
       "        vertical-align: top;\n",
       "    }\n",
       "\n",
       "    .dataframe thead th {\n",
       "        text-align: right;\n",
       "    }\n",
       "</style>\n",
       "<table border=\"1\" class=\"dataframe\">\n",
       "  <thead>\n",
       "    <tr style=\"text-align: right;\">\n",
       "      <th></th>\n",
       "      <th>Date</th>\n",
       "      <th>Open</th>\n",
       "      <th>High</th>\n",
       "      <th>Low</th>\n",
       "      <th>Close</th>\n",
       "      <th>Adj Close</th>\n",
       "      <th>Volume</th>\n",
       "    </tr>\n",
       "  </thead>\n",
       "  <tbody>\n",
       "    <tr>\n",
       "      <th>0</th>\n",
       "      <td>2014-09-17</td>\n",
       "      <td>465.864</td>\n",
       "      <td>468.174</td>\n",
       "      <td>452.422</td>\n",
       "      <td>457.334</td>\n",
       "      <td>457.334</td>\n",
       "      <td>21056800</td>\n",
       "    </tr>\n",
       "    <tr>\n",
       "      <th>1</th>\n",
       "      <td>2014-09-18</td>\n",
       "      <td>456.860</td>\n",
       "      <td>456.860</td>\n",
       "      <td>413.104</td>\n",
       "      <td>424.440</td>\n",
       "      <td>424.440</td>\n",
       "      <td>34483200</td>\n",
       "    </tr>\n",
       "    <tr>\n",
       "      <th>2</th>\n",
       "      <td>2014-09-19</td>\n",
       "      <td>424.103</td>\n",
       "      <td>427.835</td>\n",
       "      <td>384.532</td>\n",
       "      <td>394.796</td>\n",
       "      <td>394.796</td>\n",
       "      <td>37919700</td>\n",
       "    </tr>\n",
       "    <tr>\n",
       "      <th>3</th>\n",
       "      <td>2014-09-20</td>\n",
       "      <td>394.673</td>\n",
       "      <td>423.296</td>\n",
       "      <td>389.883</td>\n",
       "      <td>408.904</td>\n",
       "      <td>408.904</td>\n",
       "      <td>36863600</td>\n",
       "    </tr>\n",
       "    <tr>\n",
       "      <th>4</th>\n",
       "      <td>2014-09-21</td>\n",
       "      <td>408.085</td>\n",
       "      <td>412.426</td>\n",
       "      <td>393.181</td>\n",
       "      <td>398.821</td>\n",
       "      <td>398.821</td>\n",
       "      <td>26580100</td>\n",
       "    </tr>\n",
       "  </tbody>\n",
       "</table>\n",
       "</div>"
      ],
      "text/plain": [
       "        Date    Open    High     Low   Close  Adj Close    Volume\n",
       "0 2014-09-17 465.864 468.174 452.422 457.334    457.334  21056800\n",
       "1 2014-09-18 456.860 456.860 413.104 424.440    424.440  34483200\n",
       "2 2014-09-19 424.103 427.835 384.532 394.796    394.796  37919700\n",
       "3 2014-09-20 394.673 423.296 389.883 408.904    408.904  36863600\n",
       "4 2014-09-21 408.085 412.426 393.181 398.821    398.821  26580100"
      ]
     },
     "execution_count": 11,
     "metadata": {},
     "output_type": "execute_result"
    }
   ],
   "source": [
    "df.head()"
   ]
  },
  {
   "cell_type": "code",
   "execution_count": 12,
   "id": "9fc4dd31",
   "metadata": {},
   "outputs": [
    {
     "data": {
      "text/html": [
       "<div>\n",
       "<style scoped>\n",
       "    .dataframe tbody tr th:only-of-type {\n",
       "        vertical-align: middle;\n",
       "    }\n",
       "\n",
       "    .dataframe tbody tr th {\n",
       "        vertical-align: top;\n",
       "    }\n",
       "\n",
       "    .dataframe thead th {\n",
       "        text-align: right;\n",
       "    }\n",
       "</style>\n",
       "<table border=\"1\" class=\"dataframe\">\n",
       "  <thead>\n",
       "    <tr style=\"text-align: right;\">\n",
       "      <th></th>\n",
       "      <th>Date</th>\n",
       "      <th>Adj Close</th>\n",
       "    </tr>\n",
       "  </thead>\n",
       "  <tbody>\n",
       "    <tr>\n",
       "      <th>0</th>\n",
       "      <td>2014-09-17</td>\n",
       "      <td>457.334</td>\n",
       "    </tr>\n",
       "    <tr>\n",
       "      <th>1</th>\n",
       "      <td>2014-09-18</td>\n",
       "      <td>424.440</td>\n",
       "    </tr>\n",
       "    <tr>\n",
       "      <th>2</th>\n",
       "      <td>2014-09-19</td>\n",
       "      <td>394.796</td>\n",
       "    </tr>\n",
       "    <tr>\n",
       "      <th>3</th>\n",
       "      <td>2014-09-20</td>\n",
       "      <td>408.904</td>\n",
       "    </tr>\n",
       "    <tr>\n",
       "      <th>4</th>\n",
       "      <td>2014-09-21</td>\n",
       "      <td>398.821</td>\n",
       "    </tr>\n",
       "    <tr>\n",
       "      <th>...</th>\n",
       "      <td>...</td>\n",
       "      <td>...</td>\n",
       "    </tr>\n",
       "    <tr>\n",
       "      <th>3204</th>\n",
       "      <td>2023-06-26</td>\n",
       "      <td>30271.131</td>\n",
       "    </tr>\n",
       "    <tr>\n",
       "      <th>3205</th>\n",
       "      <td>2023-06-27</td>\n",
       "      <td>30688.164</td>\n",
       "    </tr>\n",
       "    <tr>\n",
       "      <th>3206</th>\n",
       "      <td>2023-06-28</td>\n",
       "      <td>30086.246</td>\n",
       "    </tr>\n",
       "    <tr>\n",
       "      <th>3207</th>\n",
       "      <td>2023-06-29</td>\n",
       "      <td>30445.352</td>\n",
       "    </tr>\n",
       "    <tr>\n",
       "      <th>3208</th>\n",
       "      <td>2023-06-30</td>\n",
       "      <td>30845.139</td>\n",
       "    </tr>\n",
       "  </tbody>\n",
       "</table>\n",
       "<p>3209 rows × 2 columns</p>\n",
       "</div>"
      ],
      "text/plain": [
       "           Date  Adj Close\n",
       "0    2014-09-17    457.334\n",
       "1    2014-09-18    424.440\n",
       "2    2014-09-19    394.796\n",
       "3    2014-09-20    408.904\n",
       "4    2014-09-21    398.821\n",
       "...         ...        ...\n",
       "3204 2023-06-26  30271.131\n",
       "3205 2023-06-27  30688.164\n",
       "3206 2023-06-28  30086.246\n",
       "3207 2023-06-29  30445.352\n",
       "3208 2023-06-30  30845.139\n",
       "\n",
       "[3209 rows x 2 columns]"
      ]
     },
     "execution_count": 12,
     "metadata": {},
     "output_type": "execute_result"
    }
   ],
   "source": [
    "df = df[['Date','Adj Close']]\n",
    "df"
   ]
  },
  {
   "cell_type": "markdown",
   "id": "9784c5f4",
   "metadata": {},
   "source": [
    "## change columns to ds and y"
   ]
  },
  {
   "cell_type": "code",
   "execution_count": 13,
   "id": "7c2e3a70",
   "metadata": {},
   "outputs": [],
   "source": [
    "df.columns = ['ds','y']"
   ]
  },
  {
   "cell_type": "code",
   "execution_count": 14,
   "id": "2e140562",
   "metadata": {},
   "outputs": [
    {
     "data": {
      "text/html": [
       "<div>\n",
       "<style scoped>\n",
       "    .dataframe tbody tr th:only-of-type {\n",
       "        vertical-align: middle;\n",
       "    }\n",
       "\n",
       "    .dataframe tbody tr th {\n",
       "        vertical-align: top;\n",
       "    }\n",
       "\n",
       "    .dataframe thead th {\n",
       "        text-align: right;\n",
       "    }\n",
       "</style>\n",
       "<table border=\"1\" class=\"dataframe\">\n",
       "  <thead>\n",
       "    <tr style=\"text-align: right;\">\n",
       "      <th></th>\n",
       "      <th>ds</th>\n",
       "      <th>y</th>\n",
       "    </tr>\n",
       "  </thead>\n",
       "  <tbody>\n",
       "    <tr>\n",
       "      <th>0</th>\n",
       "      <td>2014-09-17</td>\n",
       "      <td>457.334</td>\n",
       "    </tr>\n",
       "    <tr>\n",
       "      <th>1</th>\n",
       "      <td>2014-09-18</td>\n",
       "      <td>424.440</td>\n",
       "    </tr>\n",
       "    <tr>\n",
       "      <th>2</th>\n",
       "      <td>2014-09-19</td>\n",
       "      <td>394.796</td>\n",
       "    </tr>\n",
       "    <tr>\n",
       "      <th>3</th>\n",
       "      <td>2014-09-20</td>\n",
       "      <td>408.904</td>\n",
       "    </tr>\n",
       "    <tr>\n",
       "      <th>4</th>\n",
       "      <td>2014-09-21</td>\n",
       "      <td>398.821</td>\n",
       "    </tr>\n",
       "    <tr>\n",
       "      <th>...</th>\n",
       "      <td>...</td>\n",
       "      <td>...</td>\n",
       "    </tr>\n",
       "    <tr>\n",
       "      <th>3204</th>\n",
       "      <td>2023-06-26</td>\n",
       "      <td>30271.131</td>\n",
       "    </tr>\n",
       "    <tr>\n",
       "      <th>3205</th>\n",
       "      <td>2023-06-27</td>\n",
       "      <td>30688.164</td>\n",
       "    </tr>\n",
       "    <tr>\n",
       "      <th>3206</th>\n",
       "      <td>2023-06-28</td>\n",
       "      <td>30086.246</td>\n",
       "    </tr>\n",
       "    <tr>\n",
       "      <th>3207</th>\n",
       "      <td>2023-06-29</td>\n",
       "      <td>30445.352</td>\n",
       "    </tr>\n",
       "    <tr>\n",
       "      <th>3208</th>\n",
       "      <td>2023-06-30</td>\n",
       "      <td>30845.139</td>\n",
       "    </tr>\n",
       "  </tbody>\n",
       "</table>\n",
       "<p>3209 rows × 2 columns</p>\n",
       "</div>"
      ],
      "text/plain": [
       "             ds         y\n",
       "0    2014-09-17   457.334\n",
       "1    2014-09-18   424.440\n",
       "2    2014-09-19   394.796\n",
       "3    2014-09-20   408.904\n",
       "4    2014-09-21   398.821\n",
       "...         ...       ...\n",
       "3204 2023-06-26 30271.131\n",
       "3205 2023-06-27 30688.164\n",
       "3206 2023-06-28 30086.246\n",
       "3207 2023-06-29 30445.352\n",
       "3208 2023-06-30 30845.139\n",
       "\n",
       "[3209 rows x 2 columns]"
      ]
     },
     "execution_count": 14,
     "metadata": {},
     "output_type": "execute_result"
    }
   ],
   "source": [
    "df"
   ]
  },
  {
   "cell_type": "code",
   "execution_count": 15,
   "id": "02de4368",
   "metadata": {},
   "outputs": [
    {
     "name": "stdout",
     "output_type": "stream",
     "text": [
      "<class 'pandas.core.frame.DataFrame'>\n",
      "RangeIndex: 3209 entries, 0 to 3208\n",
      "Data columns (total 2 columns):\n",
      " #   Column  Non-Null Count  Dtype         \n",
      "---  ------  --------------  -----         \n",
      " 0   ds      3209 non-null   datetime64[ns]\n",
      " 1   y       3209 non-null   float64       \n",
      "dtypes: datetime64[ns](1), float64(1)\n",
      "memory usage: 50.3 KB\n"
     ]
    }
   ],
   "source": [
    "df.info()"
   ]
  },
  {
   "cell_type": "markdown",
   "id": "95e69a48",
   "metadata": {},
   "source": [
    "## Model Building and Training"
   ]
  },
  {
   "cell_type": "code",
   "execution_count": 16,
   "id": "92bfc381",
   "metadata": {},
   "outputs": [],
   "source": [
    "model = Prophet(daily_seasonality=True)"
   ]
  },
  {
   "cell_type": "code",
   "execution_count": 17,
   "id": "d06c9e1c",
   "metadata": {},
   "outputs": [
    {
     "name": "stderr",
     "output_type": "stream",
     "text": [
      "INFO:cmdstanpy:start chain 1\n",
      "INFO:cmdstanpy:finish chain 1\n"
     ]
    },
    {
     "data": {
      "text/plain": [
       "<prophet.forecaster.Prophet at 0x1f4491c1fd0>"
      ]
     },
     "execution_count": 17,
     "metadata": {},
     "output_type": "execute_result"
    }
   ],
   "source": [
    "model.fit(df)"
   ]
  },
  {
   "cell_type": "code",
   "execution_count": 18,
   "id": "a6030267",
   "metadata": {},
   "outputs": [
    {
     "data": {
      "text/plain": [
       "{'additive': ['yearly',\n",
       "  'weekly',\n",
       "  'daily',\n",
       "  'additive_terms',\n",
       "  'extra_regressors_additive',\n",
       "  'holidays'],\n",
       " 'multiplicative': ['multiplicative_terms', 'extra_regressors_multiplicative']}"
      ]
     },
     "execution_count": 18,
     "metadata": {},
     "output_type": "execute_result"
    }
   ],
   "source": [
    "model.component_modes"
   ]
  },
  {
   "cell_type": "code",
   "execution_count": 19,
   "id": "ac86708d",
   "metadata": {},
   "outputs": [
    {
     "data": {
      "text/html": [
       "<div>\n",
       "<style scoped>\n",
       "    .dataframe tbody tr th:only-of-type {\n",
       "        vertical-align: middle;\n",
       "    }\n",
       "\n",
       "    .dataframe tbody tr th {\n",
       "        vertical-align: top;\n",
       "    }\n",
       "\n",
       "    .dataframe thead th {\n",
       "        text-align: right;\n",
       "    }\n",
       "</style>\n",
       "<table border=\"1\" class=\"dataframe\">\n",
       "  <thead>\n",
       "    <tr style=\"text-align: right;\">\n",
       "      <th></th>\n",
       "      <th>ds</th>\n",
       "      <th>y</th>\n",
       "    </tr>\n",
       "  </thead>\n",
       "  <tbody>\n",
       "    <tr>\n",
       "      <th>3204</th>\n",
       "      <td>2023-06-26</td>\n",
       "      <td>30271.131</td>\n",
       "    </tr>\n",
       "    <tr>\n",
       "      <th>3205</th>\n",
       "      <td>2023-06-27</td>\n",
       "      <td>30688.164</td>\n",
       "    </tr>\n",
       "    <tr>\n",
       "      <th>3206</th>\n",
       "      <td>2023-06-28</td>\n",
       "      <td>30086.246</td>\n",
       "    </tr>\n",
       "    <tr>\n",
       "      <th>3207</th>\n",
       "      <td>2023-06-29</td>\n",
       "      <td>30445.352</td>\n",
       "    </tr>\n",
       "    <tr>\n",
       "      <th>3208</th>\n",
       "      <td>2023-06-30</td>\n",
       "      <td>30845.139</td>\n",
       "    </tr>\n",
       "  </tbody>\n",
       "</table>\n",
       "</div>"
      ],
      "text/plain": [
       "             ds         y\n",
       "3204 2023-06-26 30271.131\n",
       "3205 2023-06-27 30688.164\n",
       "3206 2023-06-28 30086.246\n",
       "3207 2023-06-29 30445.352\n",
       "3208 2023-06-30 30845.139"
      ]
     },
     "execution_count": 19,
     "metadata": {},
     "output_type": "execute_result"
    }
   ],
   "source": [
    "df.tail()"
   ]
  },
  {
   "cell_type": "markdown",
   "id": "e024b092",
   "metadata": {},
   "source": [
    "## Creating Future 3 years Dataframe"
   ]
  },
  {
   "cell_type": "code",
   "execution_count": 20,
   "id": "8f67467e",
   "metadata": {},
   "outputs": [],
   "source": [
    "future_dates = model.make_future_dataframe(periods=1095,freq='D')"
   ]
  },
  {
   "cell_type": "code",
   "execution_count": 21,
   "id": "c8b93e6c",
   "metadata": {},
   "outputs": [
    {
     "data": {
      "text/html": [
       "<div>\n",
       "<style scoped>\n",
       "    .dataframe tbody tr th:only-of-type {\n",
       "        vertical-align: middle;\n",
       "    }\n",
       "\n",
       "    .dataframe tbody tr th {\n",
       "        vertical-align: top;\n",
       "    }\n",
       "\n",
       "    .dataframe thead th {\n",
       "        text-align: right;\n",
       "    }\n",
       "</style>\n",
       "<table border=\"1\" class=\"dataframe\">\n",
       "  <thead>\n",
       "    <tr style=\"text-align: right;\">\n",
       "      <th></th>\n",
       "      <th>ds</th>\n",
       "    </tr>\n",
       "  </thead>\n",
       "  <tbody>\n",
       "    <tr>\n",
       "      <th>4299</th>\n",
       "      <td>2026-06-25</td>\n",
       "    </tr>\n",
       "    <tr>\n",
       "      <th>4300</th>\n",
       "      <td>2026-06-26</td>\n",
       "    </tr>\n",
       "    <tr>\n",
       "      <th>4301</th>\n",
       "      <td>2026-06-27</td>\n",
       "    </tr>\n",
       "    <tr>\n",
       "      <th>4302</th>\n",
       "      <td>2026-06-28</td>\n",
       "    </tr>\n",
       "    <tr>\n",
       "      <th>4303</th>\n",
       "      <td>2026-06-29</td>\n",
       "    </tr>\n",
       "  </tbody>\n",
       "</table>\n",
       "</div>"
      ],
      "text/plain": [
       "             ds\n",
       "4299 2026-06-25\n",
       "4300 2026-06-26\n",
       "4301 2026-06-27\n",
       "4302 2026-06-28\n",
       "4303 2026-06-29"
      ]
     },
     "execution_count": 21,
     "metadata": {},
     "output_type": "execute_result"
    }
   ],
   "source": [
    "future_dates.tail()"
   ]
  },
  {
   "cell_type": "code",
   "execution_count": 22,
   "id": "a7f42119",
   "metadata": {},
   "outputs": [],
   "source": [
    "prediction = model.predict(future_dates)"
   ]
  },
  {
   "cell_type": "code",
   "execution_count": 23,
   "id": "07631ce5",
   "metadata": {},
   "outputs": [
    {
     "data": {
      "text/html": [
       "<div>\n",
       "<style scoped>\n",
       "    .dataframe tbody tr th:only-of-type {\n",
       "        vertical-align: middle;\n",
       "    }\n",
       "\n",
       "    .dataframe tbody tr th {\n",
       "        vertical-align: top;\n",
       "    }\n",
       "\n",
       "    .dataframe thead th {\n",
       "        text-align: right;\n",
       "    }\n",
       "</style>\n",
       "<table border=\"1\" class=\"dataframe\">\n",
       "  <thead>\n",
       "    <tr style=\"text-align: right;\">\n",
       "      <th></th>\n",
       "      <th>ds</th>\n",
       "      <th>trend</th>\n",
       "      <th>yhat_lower</th>\n",
       "      <th>yhat_upper</th>\n",
       "      <th>trend_lower</th>\n",
       "      <th>trend_upper</th>\n",
       "      <th>additive_terms</th>\n",
       "      <th>additive_terms_lower</th>\n",
       "      <th>additive_terms_upper</th>\n",
       "      <th>daily</th>\n",
       "      <th>...</th>\n",
       "      <th>weekly</th>\n",
       "      <th>weekly_lower</th>\n",
       "      <th>weekly_upper</th>\n",
       "      <th>yearly</th>\n",
       "      <th>yearly_lower</th>\n",
       "      <th>yearly_upper</th>\n",
       "      <th>multiplicative_terms</th>\n",
       "      <th>multiplicative_terms_lower</th>\n",
       "      <th>multiplicative_terms_upper</th>\n",
       "      <th>yhat</th>\n",
       "    </tr>\n",
       "  </thead>\n",
       "  <tbody>\n",
       "    <tr>\n",
       "      <th>4299</th>\n",
       "      <td>2026-06-25</td>\n",
       "      <td>-40572.496</td>\n",
       "      <td>-100442.388</td>\n",
       "      <td>9354.583</td>\n",
       "      <td>-98589.311</td>\n",
       "      <td>11186.016</td>\n",
       "      <td>-1546.188</td>\n",
       "      <td>-1546.188</td>\n",
       "      <td>-1546.188</td>\n",
       "      <td>-330.742</td>\n",
       "      <td>...</td>\n",
       "      <td>-10.965</td>\n",
       "      <td>-10.965</td>\n",
       "      <td>-10.965</td>\n",
       "      <td>-1204.481</td>\n",
       "      <td>-1204.481</td>\n",
       "      <td>-1204.481</td>\n",
       "      <td>0.000</td>\n",
       "      <td>0.000</td>\n",
       "      <td>0.000</td>\n",
       "      <td>-42118.684</td>\n",
       "    </tr>\n",
       "    <tr>\n",
       "      <th>4300</th>\n",
       "      <td>2026-06-26</td>\n",
       "      <td>-40623.468</td>\n",
       "      <td>-99466.628</td>\n",
       "      <td>9600.760</td>\n",
       "      <td>-98712.553</td>\n",
       "      <td>11234.277</td>\n",
       "      <td>-1659.312</td>\n",
       "      <td>-1659.312</td>\n",
       "      <td>-1659.312</td>\n",
       "      <td>-330.742</td>\n",
       "      <td>...</td>\n",
       "      <td>9.149</td>\n",
       "      <td>9.149</td>\n",
       "      <td>9.149</td>\n",
       "      <td>-1337.719</td>\n",
       "      <td>-1337.719</td>\n",
       "      <td>-1337.719</td>\n",
       "      <td>0.000</td>\n",
       "      <td>0.000</td>\n",
       "      <td>0.000</td>\n",
       "      <td>-42282.781</td>\n",
       "    </tr>\n",
       "    <tr>\n",
       "      <th>4301</th>\n",
       "      <td>2026-06-27</td>\n",
       "      <td>-40674.441</td>\n",
       "      <td>-99341.349</td>\n",
       "      <td>11087.484</td>\n",
       "      <td>-98835.795</td>\n",
       "      <td>11282.538</td>\n",
       "      <td>-1817.481</td>\n",
       "      <td>-1817.481</td>\n",
       "      <td>-1817.481</td>\n",
       "      <td>-330.742</td>\n",
       "      <td>...</td>\n",
       "      <td>-11.920</td>\n",
       "      <td>-11.920</td>\n",
       "      <td>-11.920</td>\n",
       "      <td>-1474.819</td>\n",
       "      <td>-1474.819</td>\n",
       "      <td>-1474.819</td>\n",
       "      <td>0.000</td>\n",
       "      <td>0.000</td>\n",
       "      <td>0.000</td>\n",
       "      <td>-42491.923</td>\n",
       "    </tr>\n",
       "    <tr>\n",
       "      <th>4302</th>\n",
       "      <td>2026-06-28</td>\n",
       "      <td>-40725.414</td>\n",
       "      <td>-100898.894</td>\n",
       "      <td>8889.650</td>\n",
       "      <td>-98959.037</td>\n",
       "      <td>11330.799</td>\n",
       "      <td>-1957.111</td>\n",
       "      <td>-1957.111</td>\n",
       "      <td>-1957.111</td>\n",
       "      <td>-330.742</td>\n",
       "      <td>...</td>\n",
       "      <td>-12.108</td>\n",
       "      <td>-12.108</td>\n",
       "      <td>-12.108</td>\n",
       "      <td>-1614.261</td>\n",
       "      <td>-1614.261</td>\n",
       "      <td>-1614.261</td>\n",
       "      <td>0.000</td>\n",
       "      <td>0.000</td>\n",
       "      <td>0.000</td>\n",
       "      <td>-42682.525</td>\n",
       "    </tr>\n",
       "    <tr>\n",
       "      <th>4303</th>\n",
       "      <td>2026-06-29</td>\n",
       "      <td>-40776.387</td>\n",
       "      <td>-103239.145</td>\n",
       "      <td>9379.506</td>\n",
       "      <td>-99082.279</td>\n",
       "      <td>11379.060</td>\n",
       "      <td>-2086.600</td>\n",
       "      <td>-2086.600</td>\n",
       "      <td>-2086.600</td>\n",
       "      <td>-330.742</td>\n",
       "      <td>...</td>\n",
       "      <td>-1.387</td>\n",
       "      <td>-1.387</td>\n",
       "      <td>-1.387</td>\n",
       "      <td>-1754.471</td>\n",
       "      <td>-1754.471</td>\n",
       "      <td>-1754.471</td>\n",
       "      <td>0.000</td>\n",
       "      <td>0.000</td>\n",
       "      <td>0.000</td>\n",
       "      <td>-42862.986</td>\n",
       "    </tr>\n",
       "  </tbody>\n",
       "</table>\n",
       "<p>5 rows × 22 columns</p>\n",
       "</div>"
      ],
      "text/plain": [
       "             ds      trend  yhat_lower  yhat_upper  trend_lower  trend_upper  \\\n",
       "4299 2026-06-25 -40572.496 -100442.388    9354.583   -98589.311    11186.016   \n",
       "4300 2026-06-26 -40623.468  -99466.628    9600.760   -98712.553    11234.277   \n",
       "4301 2026-06-27 -40674.441  -99341.349   11087.484   -98835.795    11282.538   \n",
       "4302 2026-06-28 -40725.414 -100898.894    8889.650   -98959.037    11330.799   \n",
       "4303 2026-06-29 -40776.387 -103239.145    9379.506   -99082.279    11379.060   \n",
       "\n",
       "      additive_terms  additive_terms_lower  additive_terms_upper    daily  \\\n",
       "4299       -1546.188             -1546.188             -1546.188 -330.742   \n",
       "4300       -1659.312             -1659.312             -1659.312 -330.742   \n",
       "4301       -1817.481             -1817.481             -1817.481 -330.742   \n",
       "4302       -1957.111             -1957.111             -1957.111 -330.742   \n",
       "4303       -2086.600             -2086.600             -2086.600 -330.742   \n",
       "\n",
       "      ...  weekly  weekly_lower  weekly_upper    yearly  yearly_lower  \\\n",
       "4299  ... -10.965       -10.965       -10.965 -1204.481     -1204.481   \n",
       "4300  ...   9.149         9.149         9.149 -1337.719     -1337.719   \n",
       "4301  ... -11.920       -11.920       -11.920 -1474.819     -1474.819   \n",
       "4302  ... -12.108       -12.108       -12.108 -1614.261     -1614.261   \n",
       "4303  ...  -1.387        -1.387        -1.387 -1754.471     -1754.471   \n",
       "\n",
       "      yearly_upper  multiplicative_terms  multiplicative_terms_lower  \\\n",
       "4299     -1204.481                 0.000                       0.000   \n",
       "4300     -1337.719                 0.000                       0.000   \n",
       "4301     -1474.819                 0.000                       0.000   \n",
       "4302     -1614.261                 0.000                       0.000   \n",
       "4303     -1754.471                 0.000                       0.000   \n",
       "\n",
       "      multiplicative_terms_upper       yhat  \n",
       "4299                       0.000 -42118.684  \n",
       "4300                       0.000 -42282.781  \n",
       "4301                       0.000 -42491.923  \n",
       "4302                       0.000 -42682.525  \n",
       "4303                       0.000 -42862.986  \n",
       "\n",
       "[5 rows x 22 columns]"
      ]
     },
     "execution_count": 23,
     "metadata": {},
     "output_type": "execute_result"
    }
   ],
   "source": [
    "prediction.tail()"
   ]
  },
  {
   "cell_type": "code",
   "execution_count": 24,
   "id": "757e13e6",
   "metadata": {},
   "outputs": [
    {
     "data": {
      "text/html": [
       "<div>\n",
       "<style scoped>\n",
       "    .dataframe tbody tr th:only-of-type {\n",
       "        vertical-align: middle;\n",
       "    }\n",
       "\n",
       "    .dataframe tbody tr th {\n",
       "        vertical-align: top;\n",
       "    }\n",
       "\n",
       "    .dataframe thead th {\n",
       "        text-align: right;\n",
       "    }\n",
       "</style>\n",
       "<table border=\"1\" class=\"dataframe\">\n",
       "  <thead>\n",
       "    <tr style=\"text-align: right;\">\n",
       "      <th></th>\n",
       "      <th>ds</th>\n",
       "      <th>yhat</th>\n",
       "    </tr>\n",
       "  </thead>\n",
       "  <tbody>\n",
       "    <tr>\n",
       "      <th>4299</th>\n",
       "      <td>2026-06-25</td>\n",
       "      <td>-42118.684</td>\n",
       "    </tr>\n",
       "    <tr>\n",
       "      <th>4300</th>\n",
       "      <td>2026-06-26</td>\n",
       "      <td>-42282.781</td>\n",
       "    </tr>\n",
       "    <tr>\n",
       "      <th>4301</th>\n",
       "      <td>2026-06-27</td>\n",
       "      <td>-42491.923</td>\n",
       "    </tr>\n",
       "    <tr>\n",
       "      <th>4302</th>\n",
       "      <td>2026-06-28</td>\n",
       "      <td>-42682.525</td>\n",
       "    </tr>\n",
       "    <tr>\n",
       "      <th>4303</th>\n",
       "      <td>2026-06-29</td>\n",
       "      <td>-42862.986</td>\n",
       "    </tr>\n",
       "  </tbody>\n",
       "</table>\n",
       "</div>"
      ],
      "text/plain": [
       "             ds       yhat\n",
       "4299 2026-06-25 -42118.684\n",
       "4300 2026-06-26 -42282.781\n",
       "4301 2026-06-27 -42491.923\n",
       "4302 2026-06-28 -42682.525\n",
       "4303 2026-06-29 -42862.986"
      ]
     },
     "execution_count": 24,
     "metadata": {},
     "output_type": "execute_result"
    }
   ],
   "source": [
    "prediction[['ds','yhat']].tail()"
   ]
  },
  {
   "cell_type": "code",
   "execution_count": 25,
   "id": "7cccd5bb",
   "metadata": {},
   "outputs": [
    {
     "name": "stdout",
     "output_type": "stream",
     "text": [
      "<class 'pandas.core.frame.DataFrame'>\n",
      "RangeIndex: 4304 entries, 0 to 4303\n",
      "Data columns (total 22 columns):\n",
      " #   Column                      Non-Null Count  Dtype         \n",
      "---  ------                      --------------  -----         \n",
      " 0   ds                          4304 non-null   datetime64[ns]\n",
      " 1   trend                       4304 non-null   float64       \n",
      " 2   yhat_lower                  4304 non-null   float64       \n",
      " 3   yhat_upper                  4304 non-null   float64       \n",
      " 4   trend_lower                 4304 non-null   float64       \n",
      " 5   trend_upper                 4304 non-null   float64       \n",
      " 6   additive_terms              4304 non-null   float64       \n",
      " 7   additive_terms_lower        4304 non-null   float64       \n",
      " 8   additive_terms_upper        4304 non-null   float64       \n",
      " 9   daily                       4304 non-null   float64       \n",
      " 10  daily_lower                 4304 non-null   float64       \n",
      " 11  daily_upper                 4304 non-null   float64       \n",
      " 12  weekly                      4304 non-null   float64       \n",
      " 13  weekly_lower                4304 non-null   float64       \n",
      " 14  weekly_upper                4304 non-null   float64       \n",
      " 15  yearly                      4304 non-null   float64       \n",
      " 16  yearly_lower                4304 non-null   float64       \n",
      " 17  yearly_upper                4304 non-null   float64       \n",
      " 18  multiplicative_terms        4304 non-null   float64       \n",
      " 19  multiplicative_terms_lower  4304 non-null   float64       \n",
      " 20  multiplicative_terms_upper  4304 non-null   float64       \n",
      " 21  yhat                        4304 non-null   float64       \n",
      "dtypes: datetime64[ns](1), float64(21)\n",
      "memory usage: 739.9 KB\n"
     ]
    }
   ],
   "source": [
    "prediction.info()"
   ]
  },
  {
   "cell_type": "markdown",
   "id": "5f331225",
   "metadata": {},
   "source": [
    "## Visualizations"
   ]
  },
  {
   "cell_type": "code",
   "execution_count": 26,
   "id": "c08c5ba2",
   "metadata": {},
   "outputs": [
    {
     "data": {
      "image/png": "[encoded data removed]",
      "text/plain": [
       "<Figure size 720x360 with 1 Axes>"
      ]
     },
     "metadata": {
      "needs_background": "light"
     },
     "output_type": "display_data"
    }
   ],
   "source": [
    "fig, ax = plt.subplots(figsize=(10, 5))\n",
    "fig = model.plot(prediction, ax=ax)\n",
    "ax.set_title('Prophet Forecast')\n",
    "plt.show()"
   ]
  },
  {
   "cell_type": "code",
   "execution_count": 27,
   "id": "a0ae0377",
   "metadata": {
    "scrolled": false
   },
   "outputs": [
    {
     "data": {
      "image/png": "[encoded data removed]",
      "text/plain": [
       "<Figure size 648x864 with 4 Axes>"
      ]
     },
     "metadata": {},
     "output_type": "display_data"
    }
   ],
   "source": [
    "fig2 = model.plot_components(prediction)\n",
    "plt.show()"
   ]
  },
  {
   "cell_type": "markdown",
   "id": "a6654dbd",
   "metadata": {},
   "source": [
    "## Predictions"
   ]
  },
  {
   "cell_type": "code",
   "execution_count": 28,
   "id": "e5ee20a1",
   "metadata": {
    "scrolled": true
   },
   "outputs": [
    {
     "name": "stdout",
     "output_type": "stream",
     "text": [
      "The Price of Bitcoin is:\n",
      "2663   42776.493\n",
      "Name: yhat, dtype: float64\n"
     ]
    }
   ],
   "source": [
    "print('The Price of Bitcoin is:')\n",
    "print(prediction[prediction.ds == '2022-01-01']['yhat'])"
   ]
  },
  {
   "cell_type": "code",
   "execution_count": 29,
   "id": "1ad309f8",
   "metadata": {},
   "outputs": [
    {
     "name": "stdout",
     "output_type": "stream",
     "text": [
      "The Price of Bitcoin on 2023-01-01 is: 24157.128996511812 $\n"
     ]
    }
   ],
   "source": [
    "val1 = prediction.loc[prediction['ds'] == '2023-01-01', 'yhat'].values[0]\n",
    "print('The Price of Bitcoin on 2023-01-01 is:',val1,'$')"
   ]
  },
  {
   "cell_type": "code",
   "execution_count": 30,
   "id": "2ff82b22",
   "metadata": {},
   "outputs": [
    {
     "name": "stdout",
     "output_type": "stream",
     "text": [
      "The Price of Bitcoin on 2024-01-01 is: 5548.172674406073 $\n"
     ]
    }
   ],
   "source": [
    "val2 = prediction.loc[prediction['ds'] == '2024-01-01', 'yhat'].values[0]\n",
    "print('The Price of Bitcoin on 2024-01-01 is:',val2,'$')"
   ]
  },
  {
   "cell_type": "markdown",
   "id": "a02cf83d",
   "metadata": {},
   "source": [
    "## Saving the Model"
   ]
  },
  {
   "cell_type": "code",
   "execution_count": 31,
   "id": "20d74c74",
   "metadata": {},
   "outputs": [],
   "source": [
    "import pickle\n",
    "pickle.dump(model,open('prophet.pkl','wb'))"
   ]
  },
  {
   "cell_type": "code",
   "execution_count": null,
   "id": "7302bbc7",
   "metadata": {},
   "outputs": [],
   "source": []
  }
 ],
 "metadata": {
  "kernelspec": {
   "display_name": "Python 3 (ipykernel)",
   "language": "python",
   "name": "python3"
  },
  "language_info": {
   "codemirror_mode": {
    "name": "ipython",
    "version": 3
   },
   "file_extension": ".py",
   "mimetype": "text/x-python",
   "name": "python",
   "nbconvert_exporter": "python",
   "pygments_lexer": "ipython3",
   "version": "3.8.13"
  }
 },
 "nbformat": 4,
 "nbformat_minor": 5
}
